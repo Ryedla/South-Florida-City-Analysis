{
    "nbformat_minor": 1, 
    "cells": [
        {
            "source": "## Problem and the background", 
            "cell_type": "markdown", 
            "metadata": {
                "collapsed": true
            }
        }, 
        {
            "execution_count": null, 
            "cell_type": "code", 
            "metadata": {}, 
            "outputs": [], 
            "source": "South Florida (colloquially and locally known as SoFlo) is a geographic and cultural region that generally comprises Florida's southernmost counties, and is the fourth most populous (6.69 million) urban agglomeration in the United States. It is one of Florida's three most common \"directional\" regions, the others being Central Florida and North Florida. It includes the populous Miami metropolitan area, the Everglades, the Florida Keys, and other localities. South Florida is the only part of the continental United States with a tropical climate.\n\nI want to start a business in South Florida and need to be associated or get in partnership with the companies in various cities. I am from Boca Raton, and my idea is to start with Boca and then expand to other cities in South Florida. The target businesses are usually B2C, and my product will help these businesses get more customers for them.\n\nThe idea behind this project is to find out the most common venues within Boca Raton and then find the cities that are alike with Boca. The algorithm to be used is k-means clustering so I can find out the cities that share common characteristics with Boca. As the first step, I need to find out the top venue categories and top venues in Boca Raton and to expand my market; I need to find out the cities that are like Boca Raton."
        }
    ], 
    "metadata": {
        "kernelspec": {
            "display_name": "Python 3.5", 
            "name": "python3", 
            "language": "python"
        }, 
        "language_info": {
            "mimetype": "text/x-python", 
            "nbconvert_exporter": "python", 
            "version": "3.5.5", 
            "name": "python", 
            "file_extension": ".py", 
            "pygments_lexer": "ipython3", 
            "codemirror_mode": {
                "version": 3, 
                "name": "ipython"
            }
        }
    }, 
    "nbformat": 4
}