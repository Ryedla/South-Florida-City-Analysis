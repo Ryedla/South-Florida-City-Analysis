{
    "nbformat_minor": 1, 
    "cells": [
        {
            "source": "Data and the usage\n\nData about the list of South Florida Cities obtained from Wikipedia: This is used to get the list of cities for consideration\nCoordinates of these cities from my Github repo obtained from google maps: This is used to drop pins at these cities and search venues around\nCoordinates of Boca Raton to find out the venues, obtained from google maps: This is used to search venues around Boca\nFoursquare API to fetch venues and popular venues: To get the list of venue categories and the venue names basing the lat long values\n", 
            "cell_type": "code", 
            "metadata": {
                "collapsed": true
            }, 
            "outputs": [], 
            "execution_count": null
        }
    ], 
    "metadata": {
        "kernelspec": {
            "display_name": "Python 3.5", 
            "name": "python3", 
            "language": "python"
        }, 
        "language_info": {
            "mimetype": "text/x-python", 
            "nbconvert_exporter": "python", 
            "version": "3.5.5", 
            "name": "python", 
            "file_extension": ".py", 
            "pygments_lexer": "ipython3", 
            "codemirror_mode": {
                "version": 3, 
                "name": "ipython"
            }
        }
    }, 
    "nbformat": 4
}